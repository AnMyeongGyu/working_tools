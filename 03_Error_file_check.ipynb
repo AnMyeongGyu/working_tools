{
 "cells": [
  {
   "cell_type": "code",
   "execution_count": 6,
   "id": "73a69e85",
   "metadata": {
    "ExecuteTime": {
     "end_time": "2023-05-30T08:18:08.672410Z",
     "start_time": "2023-05-30T08:18:07.438128Z"
    }
   },
   "outputs": [
    {
     "name": "stdout",
     "output_type": "stream",
     "text": [
      "Log file paths not containing the text 'MADYMO TERMINATED NORMALLY' have been saved to Z:\\2022_Project\\25_CRASH_SCENARIO_DB_AND_TOOL\\Working\\_3_C2C_Scenario_RUN_2nd\\230213_1735_CrashScenario_BatchResult_C2C\\Error_file.txt.\n"
     ]
    }
   ],
   "source": [
    "# error file path \n",
    "import os\n",
    "\n",
    "def search_files(directory, text, output_file):\n",
    "    with open(output_file, 'w') as f_out:\n",
    "        for root, _, files in os.walk(directory):\n",
    "            for file in files:\n",
    "                if file.endswith('.log'):  # Filter files by extension\n",
    "                    file_path = os.path.join(root, file)\n",
    "                    try:\n",
    "                        with open(file_path, 'r') as f:\n",
    "                            if text not in f.read():\n",
    "                                f_out.write(file_path + '\\n')\n",
    "                    except IOError:\n",
    "                        continue\n",
    "\n",
    "# Usage example\n",
    "directory_path = r'Z:\\2022_Project\\25_CRASH_SCENARIO_DB_AND_TOOL\\Working\\_3_C2C_Scenario_RUN_2nd\\230213_1735_CrashScenario_BatchResult_C2C'\n",
    "search_text = \"MADYMO TERMINATED NORMALLY\"\n",
    "output_file = os.path.join(directory_path, 'Error_file.txt')\n",
    "\n",
    "search_files(directory_path, search_text, output_file)\n",
    "print(f\"Log file paths not containing the text '{search_text}' have been saved to {output_file}.\")"
   ]
  },
  {
   "cell_type": "code",
   "execution_count": 11,
   "id": "7f744757",
   "metadata": {
    "ExecuteTime": {
     "end_time": "2023-05-30T08:26:27.834776Z",
     "start_time": "2023-05-30T08:24:43.229817Z"
    }
   },
   "outputs": [
    {
     "name": "stdout",
     "output_type": "stream",
     "text": [
      "Total files copied successfully: 29\n",
      "\n",
      "CPU times: total: 1.11 s\n",
      "Wall time: 1min 44s\n"
     ]
    }
   ],
   "source": [
    "%%time\n",
    "import os\n",
    "import shutil\n",
    "\n",
    "# absolute path\n",
    "os.chdir(r\"Z:\\2022_Project\\25_CRASH_SCENARIO_DB_AND_TOOL\\Working\\_3_C2C_Scenario_RUN_2nd\\230213_1735_CrashScenario_BatchResult_C2C\")\n",
    "\n",
    "def find_files_with_different_extensions(file_path, new_extensions):\n",
    "    directory = os.path.dirname(file_path)\n",
    "    file_name = os.path.splitext(os.path.basename(file_path))[0]\n",
    "\n",
    "    matching_files = []\n",
    "    \n",
    "    # find new extension files\n",
    "    for extension in new_extensions:\n",
    "        new_file_path = os.path.join(directory, file_name + extension)\n",
    "\n",
    "        if os.path.exists(new_file_path):\n",
    "            matching_files.append(new_file_path)\n",
    "\n",
    "    return matching_files\n",
    "\n",
    "# Example usage:\n",
    "error_file_path = \"Error_file.txt\"\n",
    "new_extensions = ['.log', '.kn3', '.xml', '.peak', '.rds']\n",
    "destination_directory = r'Z:\\2022_Project\\25_CRASH_SCENARIO_DB_AND_TOOL\\Working\\_3_C2C_Scenario_RUN_2nd\\230213_1735_CrashScenario_BatchResult_C2C\\_Debug_list'\n",
    "\n",
    "with open(error_file_path, \"r\") as file:\n",
    "    file_paths = file.read().splitlines()\n",
    "\n",
    "success_count = 0  # Counter variable for successful file copies\n",
    "\n",
    "for file_path in file_paths:\n",
    "    results = find_files_with_different_extensions(file_path, new_extensions)\n",
    "    if results:\n",
    "        parent2_folder_name = os.path.basename(os.path.dirname(file_path))\n",
    "        parent1_folder_name = os.path.basename(os.path.dirname(os.path.dirname(file_path)))\n",
    "        destination_path = os.path.join(destination_directory, parent1_folder_name, parent2_folder_name)\n",
    "        os.makedirs(destination_path, exist_ok=True)\n",
    "        for result in results:\n",
    "            destination_file_path = os.path.join(destination_path, os.path.basename(result))\n",
    "            try:\n",
    "                shutil.copy2(result, destination_file_path)\n",
    "                success_count += 1  # Increment counter for successful file copies\n",
    "            except Eception as e:\n",
    "                print(\"Error copying file:\", result)\n",
    "                print(\"Error message:\", str(e))\n",
    "    else:\n",
    "        print(\"No files with the same path and name but different extensions exist for:\", file_path)\n",
    "\n",
    "print(\"Total files copied successfully:\", int(success_count / len(new_extensions)))\n",
    "print()"
   ]
  },
  {
   "cell_type": "code",
   "execution_count": null,
   "id": "5eeaf669",
   "metadata": {},
   "outputs": [],
   "source": []
  }
 ],
 "metadata": {
  "kernelspec": {
   "display_name": "Python 3 (ipykernel)",
   "language": "python",
   "name": "python3"
  },
  "language_info": {
   "codemirror_mode": {
    "name": "ipython",
    "version": 3
   },
   "file_extension": ".py",
   "mimetype": "text/x-python",
   "name": "python",
   "nbconvert_exporter": "python",
   "pygments_lexer": "ipython3",
   "version": "3.9.13"
  },
  "toc": {
   "base_numbering": 1,
   "nav_menu": {},
   "number_sections": true,
   "sideBar": true,
   "skip_h1_title": false,
   "title_cell": "Table of Contents",
   "title_sidebar": "Contents",
   "toc_cell": false,
   "toc_position": {},
   "toc_section_display": true,
   "toc_window_display": false
  },
  "varInspector": {
   "cols": {
    "lenName": 16,
    "lenType": 16,
    "lenVar": 40
   },
   "kernels_config": {
    "python": {
     "delete_cmd_postfix": "",
     "delete_cmd_prefix": "del ",
     "library": "var_list.py",
     "varRefreshCmd": "print(var_dic_list())"
    },
    "r": {
     "delete_cmd_postfix": ") ",
     "delete_cmd_prefix": "rm(",
     "library": "var_list.r",
     "varRefreshCmd": "cat(var_dic_list()) "
    }
   },
   "types_to_exclude": [
    "module",
    "function",
    "builtin_function_or_method",
    "instance",
    "_Feature"
   ],
   "window_display": false
  }
 },
 "nbformat": 4,
 "nbformat_minor": 5
}

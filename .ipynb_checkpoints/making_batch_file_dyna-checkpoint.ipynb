{
 "cells": [
  {
   "cell_type": "code",
   "execution_count": 9,
   "id": "1b24477d",
   "metadata": {
    "ExecuteTime": {
     "end_time": "2023-02-02T00:38:01.750409Z",
     "start_time": "2023-02-02T00:38:01.708787Z"
    }
   },
   "outputs": [
    {
     "name": "stdout",
     "output_type": "stream",
     "text": [
      "{'\\\\\\\\ueew-1703\\\\AMG\\\\TEST\\\\01_TEST': ['00_main.dyn'], '\\\\\\\\ueew-1703\\\\AMG\\\\TEST\\\\02_TSET': ['00_main.dyn'], '\\\\\\\\ueew-1703\\\\AMG\\\\TEST\\\\03_TEST': ['00_main.dyn'], '\\\\\\\\ueew-1703\\\\AMG\\\\TEST\\\\04_TEST': ['00_main.dyn'], '\\\\\\\\ueew-1703\\\\AMG\\\\TEST\\\\05_TEST': ['00_main.dyn']}\n"
     ]
    }
   ],
   "source": [
    "import os\n",
    "import glob\n",
    "\n",
    "def process_folder(folder_path, result):\n",
    "    os.chdir(folder_path)\n",
    "    dyn_files = glob.glob(\"*main*.dyn\")\n",
    "    dyn_files_1mb = [dyn_file for dyn_file in dyn_files if os.path.getsize(dyn_file) <= 1 * 1024 * 1024]\n",
    "    if dyn_files_1mb:\n",
    "        result[folder_path] = dyn_files_1mb\n",
    "\n",
    "    subfolder_paths = [os.path.join(folder_path, subfolder) for subfolder in os.listdir() if os.path.isdir(subfolder)]\n",
    "    for subfolder_path in subfolder_paths:\n",
    "        process_folder(subfolder_path, result)\n",
    "\n",
    "root_dir = (r\"\\\\ueew-1703\\AMG\\TEST\")\n",
    "dirs = root_dir.split(\"\\\\\")[1:]\n",
    "os.chdir(root_dir)\n",
    "working_directory = os.getcwd()\n",
    "\n",
    "result = {}\n",
    "process_folder(working_directory, result)\n",
    "\n",
    "print(result)\n",
    "os.chdir(root_dir)\n",
    "\n",
    "with open(\"batch_file.bat\", \"w\") as f:\n",
    "    for subfolder_path, dyn_files in result.items():\n",
    "        subfolder_path = subfolder_path.replace(\"\\\\\\\\\" +dirs[1], \"D:\")\n",
    "        f.write(f\"cd {subfolder_path}\\n\")\n",
    "        for dyn_file in dyn_files:\n",
    "            f.write(\"mpiexec -n 16 -wdir %CD% -host \"+ dirs[1]+ \" C:\\LSDYNA\\program\\mpp971_s_R9.1.0_winx64_impi\\mppdyna.exe i=\"+dyn_file+\"\\n\")\n",
    "            f.write(\"type mes*>all.txt\\n\")\n",
    "            f.write(\"del d3plot* scr* mes*\\n\\n\")\n",
    "    f.write(\"pause\")"
   ]
  },
  {
   "cell_type": "code",
   "execution_count": null,
   "id": "70b11568",
   "metadata": {},
   "outputs": [],
   "source": []
  }
 ],
 "metadata": {
  "kernelspec": {
   "display_name": "Python 3 (ipykernel)",
   "language": "python",
   "name": "python3"
  },
  "language_info": {
   "codemirror_mode": {
    "name": "ipython",
    "version": 3
   },
   "file_extension": ".py",
   "mimetype": "text/x-python",
   "name": "python",
   "nbconvert_exporter": "python",
   "pygments_lexer": "ipython3",
   "version": "3.9.13"
  },
  "toc": {
   "base_numbering": 1,
   "nav_menu": {},
   "number_sections": true,
   "sideBar": true,
   "skip_h1_title": false,
   "title_cell": "Table of Contents",
   "title_sidebar": "Contents",
   "toc_cell": false,
   "toc_position": {},
   "toc_section_display": true,
   "toc_window_display": false
  },
  "varInspector": {
   "cols": {
    "lenName": 16,
    "lenType": 16,
    "lenVar": 40
   },
   "kernels_config": {
    "python": {
     "delete_cmd_postfix": "",
     "delete_cmd_prefix": "del ",
     "library": "var_list.py",
     "varRefreshCmd": "print(var_dic_list())"
    },
    "r": {
     "delete_cmd_postfix": ") ",
     "delete_cmd_prefix": "rm(",
     "library": "var_list.r",
     "varRefreshCmd": "cat(var_dic_list()) "
    }
   },
   "types_to_exclude": [
    "module",
    "function",
    "builtin_function_or_method",
    "instance",
    "_Feature"
   ],
   "window_display": false
  }
 },
 "nbformat": 4,
 "nbformat_minor": 5
}

{
 "cells": [
  {
   "cell_type": "code",
   "execution_count": 28,
   "id": "01bb2659",
   "metadata": {
    "ExecuteTime": {
     "end_time": "2023-01-19T03:25:21.844742Z",
     "start_time": "2023-01-19T03:25:21.834644Z"
    }
   },
   "outputs": [
    {
     "name": "stdout",
     "output_type": "stream",
     "text": [
      "['vehicle_A', 'vehicle_B', 'vehicle_C', 'vehicle_D', 'vehicle_E', 'vehicle_F', 'vehicle_G']\n"
     ]
    }
   ],
   "source": [
    "# 폴더의 서브 폴더 리스트 뽑기\n",
    "import os\n",
    "\n",
    "#루트 폴더의 경로 역슬래시 슬래시 변환\n",
    "rootdir = r'D:\\test\\col_to_xml_test'\n",
    "rootdir_replaced = rootdir.replace(os.sep, '/')\n",
    "\n",
    "#현재 디렉토리 파일과 폴더 가져와서 폴더만 남기고 리스트에 추가\n",
    "os.chdir(rootdir)\n",
    "folder_list = []\n",
    "for file in os.listdir(rootdir):\n",
    "    d = os.path.join(rootdir, file)\n",
    "    c = d.replace(os.sep, '/')\n",
    "    if os.path.isdir(c):\n",
    "        #         print(c)\n",
    "        folder_list.append(c)\n",
    "# print(folder_list)\n",
    "\n",
    "# 폴더 리스트 내부의 절대경로 삭제\n",
    "search = rootdir_replaced\n",
    "for i, word in enumerate(folder_list):\n",
    "    if search in word:\n",
    "        folder_list[i] = word.lstrip(search)\n",
    "\n",
    "# 문자열 포함 sorting\n",
    "# !pip install natsort\n",
    "from natsort import natsorted\n",
    "\n",
    "folder_list = natsorted(folder_list)\n",
    "print(folder_list)"
   ]
  },
  {
   "cell_type": "code",
   "execution_count": 29,
   "id": "21df216c",
   "metadata": {
    "ExecuteTime": {
     "end_time": "2023-01-19T03:25:21.849459Z",
     "start_time": "2023-01-19T03:25:21.844742Z"
    },
    "scrolled": true
   },
   "outputs": [
    {
     "name": "stdout",
     "output_type": "stream",
     "text": [
      "['BPLR_LH_X.col', 'BPLR_LH_X_100ms.col', 'BPLR_LH_Y.col', 'BPLR_RH_X.col', 'BPLR_RH_Y.col']\n",
      "['BPLR_LH_X.col', 'BPLR_LH_X_100ms.col', 'BPLR_LH_Y.col', 'BPLR_RH_X.col', 'BPLR_RH_Y.col']\n",
      "['BPLR_LH_X.col', 'BPLR_LH_X_100ms.col', 'BPLR_LH_Y.col', 'BPLR_RH_X.col', 'BPLR_RH_Y.col']\n",
      "['BPLR_LH_X.col', 'BPLR_LH_X_100ms.col', 'BPLR_LH_Y.col', 'BPLR_RH_X.col', 'BPLR_RH_Y.col']\n",
      "['BPLR_LH_X.col', 'BPLR_LH_X_100ms.col', 'BPLR_RH_X.col']\n",
      "['BPLR_LH_X.col', 'BPLR_LH_X_100ms.col', 'BPLR_LH_Y.col', 'BPLR_RH_X.col', 'BPLR_RH_Y.col']\n",
      "['BPLR_LH_X.col', 'BPLR_LH_X_100ms.col', 'BPLR_LH_Y.col', 'BPLR_RH_X.col', 'BPLR_RH_Y.col']\n"
     ]
    }
   ],
   "source": [
    "# glob 라이브러리 이용해서 col 파일 목록 리스트 생성\n",
    "import glob\n",
    "for i, y in zip(folder_list, range(1, len(folder_list) + 1)):\n",
    "    os.chdir(os.path.join(rootdir_replaced, i))\n",
    "    globals()['col_' + str(y)] = glob.glob(\"*.col\")\n",
    "    print(globals()['col_' + str(y)])"
   ]
  },
  {
   "cell_type": "code",
   "execution_count": 30,
   "id": "4227f455",
   "metadata": {
    "ExecuteTime": {
     "end_time": "2023-01-19T03:25:21.864729Z",
     "start_time": "2023-01-19T03:25:21.849459Z"
    }
   },
   "outputs": [
    {
     "name": "stdout",
     "output_type": "stream",
     "text": [
      "['_PULSE_base.xml']\n"
     ]
    }
   ],
   "source": [
    "# 루트 폴더에서 xml 파일 찾기\n",
    "import glob\n",
    "\n",
    "os.chdir(rootdir_replaced)\n",
    "xml_file = glob.glob(\"*.xml\")\n",
    "print(xml_file)"
   ]
  },
  {
   "cell_type": "code",
   "execution_count": 31,
   "id": "3adcc9fc",
   "metadata": {
    "ExecuteTime": {
     "end_time": "2023-01-19T03:25:21.882132Z",
     "start_time": "2023-01-19T03:25:21.865729Z"
    }
   },
   "outputs": [],
   "source": [
    "def fun_start():\n",
    "    f.write('''         >\n",
    "         <TABLE\n",
    "            TYPE=\"XY_PAIR\"\n",
    "            >\n",
    "<![CDATA[|XI\tYI|\n",
    "''')\n",
    "\n",
    "def fun_end():\n",
    "    f.write(']]>\\n' '         </TABLE>\\n' '      </FUNCTION.XY>\\n')\n",
    "\n",
    "def madymo_end():\n",
    "    f.write('   </SYSTEM.MODEL>\\n' '</MADYMO>\\n')"
   ]
  },
  {
   "cell_type": "code",
   "execution_count": 32,
   "id": "627fba0e",
   "metadata": {
    "ExecuteTime": {
     "end_time": "2023-01-19T03:25:21.898032Z",
     "start_time": "2023-01-19T03:25:21.882132Z"
    }
   },
   "outputs": [
    {
     "name": "stdout",
     "output_type": "stream",
     "text": [
      "33\n"
     ]
    }
   ],
   "source": [
    "# ID 생성\n",
    "numbers = 0\n",
    "for case, num in zip(folder_list, range(1, len(folder_list) + 1)):\n",
    "    numbers = numbers + len(case.split()) * len(globals()['col_' + str(num)])\n",
    "#     print(case)\n",
    "print(numbers)\n",
    "for id in range(1, numbers + 1):\n",
    "    globals()['id_' + str(id)] = 10000 + id"
   ]
  },
  {
   "cell_type": "code",
   "execution_count": 33,
   "id": "43322dd2",
   "metadata": {
    "ExecuteTime": {
     "end_time": "2023-01-19T03:25:21.914736Z",
     "start_time": "2023-01-19T03:25:21.899033Z"
    }
   },
   "outputs": [],
   "source": [
    "# 첫번째 xml 파일에 column 파일 이식\n",
    "os.chdir(rootdir_replaced)\n",
    "global id_num\n",
    "id_num = 1\n",
    "f = open(xml_file[0], 'a+')\n",
    "for case, num in zip(folder_list, range(1, len(folder_list) + 1)):\n",
    "    for file in (globals()['col_' + str(num)]):\n",
    "        f.write('      <FUNCTION.XY\\n')\n",
    "        f.write('         ID=\"' + str(globals()['id_' + str(id_num)]) + '\"\\n')\n",
    "        id_num = id_num + 1\n",
    "        f.write('         NAME=')\n",
    "        f.write('\"' + str(case) + '_' + str(file)[:-4] + '\"\\n')\n",
    "        fun_start()\n",
    "        f_1 = open(case + \"/\" + file, 'r')\n",
    "        while True:\n",
    "            line = f_1.readline()\n",
    "            if not line: break\n",
    "            f.write(str(line))\n",
    "        fun_end()\n",
    "madymo_end()\n",
    "f.close()"
   ]
  },
  {
   "cell_type": "code",
   "execution_count": 1,
   "id": "773d0b25",
   "metadata": {
    "ExecuteTime": {
     "end_time": "2023-02-01T04:41:10.616319Z",
     "start_time": "2023-02-01T04:41:10.383451Z"
    }
   },
   "outputs": [
    {
     "ename": "NameError",
     "evalue": "name 'id_num' is not defined",
     "output_type": "error",
     "traceback": [
      "\u001b[1;31m---------------------------------------------------------------------------\u001b[0m",
      "\u001b[1;31mNameError\u001b[0m                                 Traceback (most recent call last)",
      "\u001b[1;32m~\\AppData\\Local\\Temp\\ipykernel_16432\\1241124232.py\u001b[0m in \u001b[0;36m<module>\u001b[1;34m\u001b[0m\n\u001b[0;32m     27\u001b[0m         \u001b[1;32mfor\u001b[0m \u001b[0mcol_file\u001b[0m \u001b[1;32min\u001b[0m \u001b[0mcol_group\u001b[0m\u001b[1;33m:\u001b[0m\u001b[1;33m\u001b[0m\u001b[1;33m\u001b[0m\u001b[0m\n\u001b[0;32m     28\u001b[0m             \u001b[0mf\u001b[0m\u001b[1;33m.\u001b[0m\u001b[0mwrite\u001b[0m\u001b[1;33m(\u001b[0m\u001b[1;34m'      <FUNCTION.XY\\n'\u001b[0m\u001b[1;33m)\u001b[0m\u001b[1;33m\u001b[0m\u001b[1;33m\u001b[0m\u001b[0m\n\u001b[1;32m---> 29\u001b[1;33m             \u001b[0mf\u001b[0m\u001b[1;33m.\u001b[0m\u001b[0mwrite\u001b[0m\u001b[1;33m(\u001b[0m\u001b[1;34m'         ID=\"{}\"\\n'\u001b[0m\u001b[1;33m.\u001b[0m\u001b[0mformat\u001b[0m\u001b[1;33m(\u001b[0m\u001b[1;36m10000\u001b[0m \u001b[1;33m+\u001b[0m \u001b[0mid_num\u001b[0m\u001b[1;33m)\u001b[0m\u001b[1;33m)\u001b[0m\u001b[1;33m\u001b[0m\u001b[1;33m\u001b[0m\u001b[0m\n\u001b[0m\u001b[0;32m     30\u001b[0m             \u001b[0mf\u001b[0m\u001b[1;33m.\u001b[0m\u001b[0mwrite\u001b[0m\u001b[1;33m(\u001b[0m\u001b[1;34m'         NAME=\"{}_{}\"\\n'\u001b[0m\u001b[1;33m.\u001b[0m\u001b[0mformat\u001b[0m\u001b[1;33m(\u001b[0m\u001b[0mfolder\u001b[0m\u001b[1;33m,\u001b[0m \u001b[0mos\u001b[0m\u001b[1;33m.\u001b[0m\u001b[0mpath\u001b[0m\u001b[1;33m.\u001b[0m\u001b[0msplitext\u001b[0m\u001b[1;33m(\u001b[0m\u001b[0mcol_file\u001b[0m\u001b[1;33m)\u001b[0m\u001b[1;33m[\u001b[0m\u001b[1;36m0\u001b[0m\u001b[1;33m]\u001b[0m\u001b[1;33m)\u001b[0m\u001b[1;33m)\u001b[0m\u001b[1;33m\u001b[0m\u001b[1;33m\u001b[0m\u001b[0m\n\u001b[0;32m     31\u001b[0m             \u001b[0mwrite_xml_header\u001b[0m\u001b[1;33m(\u001b[0m\u001b[0mf\u001b[0m\u001b[1;33m)\u001b[0m\u001b[1;33m\u001b[0m\u001b[1;33m\u001b[0m\u001b[0m\n",
      "\u001b[1;31mNameError\u001b[0m: name 'id_num' is not defined"
     ]
    }
   ],
   "source": [
    "import os\n",
    "import glob\n",
    "from natsort import natsorted\n",
    "\n",
    "root_dir = r'D:\\test\\col_to_xml_test'\n",
    "xml_file = glob.glob(os.path.join(root_dir, '*.xml'))[0]\n",
    "\n",
    "folder_list = natsorted([f for f in os.listdir(root_dir) if os.path.isdir(os.path.join(root_dir, f))])\n",
    "col_files = [glob.glob(os.path.join(root_dir, folder, '*.col')) for folder in folder_list]\n",
    "\n",
    "def write_xml_header(f):\n",
    "    f.write('''         >\n",
    "         <TABLE\n",
    "            TYPE=\"XY_PAIR\"\n",
    "            >\n",
    "<![CDATA[|XI\tYI|\n",
    "''')\n",
    "\n",
    "def write_xml_footer(f):\n",
    "    f.write(']]>\\n' '         </TABLE>\\n' '      </FUNCTION.XY>\\n')\n",
    "\n",
    "def write_madymo_footer(f):\n",
    "    f.write('   </SYSTEM.MODEL>\\n' '</MADYMO>\\n')\n",
    "\n",
    "with open(xml_file, 'a+') as f:\n",
    "    for folder, col_group in zip(folder_list, col_files):\n",
    "        for col_file in col_group:\n",
    "            f.write('      <FUNCTION.XY\\n')\n",
    "            f.write('         ID=\"{}\"\\n'.format(10000 + id_num))\n",
    "            f.write('         NAME=\"{}_{}\"\\n'.format(folder, os.path.splitext(col_file)[0]))\n",
    "            write_xml_header(f)\n",
    "            with open(os.path.join(root_dir, folder, col_file), 'r') as f_col:\n",
    "                for line in f_col:\n",
    "                    f.write(line)\n",
    "            write_xml_footer(f)\n",
    "    write_madymo_footer(f)\n"
   ]
  },
  {
   "cell_type": "code",
   "execution_count": null,
   "id": "f9e20d6e",
   "metadata": {},
   "outputs": [],
   "source": []
  }
 ],
 "metadata": {
  "kernelspec": {
   "display_name": "Python 3 (ipykernel)",
   "language": "python",
   "name": "python3"
  },
  "language_info": {
   "codemirror_mode": {
    "name": "ipython",
    "version": 3
   },
   "file_extension": ".py",
   "mimetype": "text/x-python",
   "name": "python",
   "nbconvert_exporter": "python",
   "pygments_lexer": "ipython3",
   "version": "3.9.13"
  },
  "toc": {
   "base_numbering": 1,
   "nav_menu": {},
   "number_sections": true,
   "sideBar": true,
   "skip_h1_title": false,
   "title_cell": "Table of Contents",
   "title_sidebar": "Contents",
   "toc_cell": false,
   "toc_position": {},
   "toc_section_display": true,
   "toc_window_display": false
  },
  "varInspector": {
   "cols": {
    "lenName": 16,
    "lenType": 16,
    "lenVar": 40
   },
   "kernels_config": {
    "python": {
     "delete_cmd_postfix": "",
     "delete_cmd_prefix": "del ",
     "library": "var_list.py",
     "varRefreshCmd": "print(var_dic_list())"
    },
    "r": {
     "delete_cmd_postfix": ") ",
     "delete_cmd_prefix": "rm(",
     "library": "var_list.r",
     "varRefreshCmd": "cat(var_dic_list()) "
    }
   },
   "types_to_exclude": [
    "module",
    "function",
    "builtin_function_or_method",
    "instance",
    "_Feature"
   ],
   "window_display": false
  }
 },
 "nbformat": 4,
 "nbformat_minor": 5
}

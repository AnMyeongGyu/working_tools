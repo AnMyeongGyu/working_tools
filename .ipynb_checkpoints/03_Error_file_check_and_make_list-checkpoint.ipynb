{
 "cells": [
  {
   "cell_type": "code",
   "execution_count": 24,
   "id": "73a69e85",
   "metadata": {
    "ExecuteTime": {
     "end_time": "2023-05-31T02:41:13.482607Z",
     "start_time": "2023-05-31T02:41:08.687637Z"
    }
   },
   "outputs": [
    {
     "name": "stdout",
     "output_type": "stream",
     "text": [
      "Log file paths containing the text 'MADYMO TERMINATED NORMALLY' and matching the pattern '*ROBO_*.log' have been saved to Z:\\2022_Project\\25_CRASH_SCENARIO_DB_AND_TOOL\\Working\\230531_Scenario_indexing\\normal_file.txt.\n"
     ]
    }
   ],
   "source": [
    "import os\n",
    "import fnmatch\n",
    "\n",
    "def search_files(directory, text, output_file):\n",
    "    with open(output_file, 'w') as f_out:\n",
    "        for root, _, files in os.walk(directory):\n",
    "            for file in files:\n",
    "                if fnmatch.fnmatch(file, '*ROBO_*.log'):  # Filter files by pattern\n",
    "                    file_path = os.path.join(root, file)\n",
    "                    try:\n",
    "                        with open(file_path, 'r') as f:\n",
    "                            if text in f.read():\n",
    "                                f_out.write(file_path + '\\n')\n",
    "                    except IOError:\n",
    "                        continue\n",
    "\n",
    "# Usage example\n",
    "directory_path = r'Z:\\2022_Project\\25_CRASH_SCENARIO_DB_AND_TOOL\\Working\\230531_Scenario_indexing'\n",
    "search_text = \"MADYMO TERMINATED NORMALLY\"\n",
    "output_file = os.path.join(directory_path, 'normal_file.txt')\n",
    "\n",
    "search_files(directory_path, search_text, output_file)\n",
    "print(f\"Log file paths containing the text '{search_text}' and matching the pattern '*ROBO_*.log' have been saved to {output_file}.\")"
   ]
  },
  {
   "cell_type": "code",
   "execution_count": 7,
   "id": "eba14f3a",
   "metadata": {
    "ExecuteTime": {
     "end_time": "2023-05-31T02:13:25.802139Z",
     "start_time": "2023-05-31T02:13:25.771969Z"
    }
   },
   "outputs": [],
   "source": [
    "import pandas as pd\n",
    "\n",
    "os.chdir(r\"Z:\\2022_Project\\25_CRASH_SCENARIO_DB_AND_TOOL\\Working\\230531_Scenario_indexing\")\n",
    "\n",
    "# Read the text file and extract the parameters\n",
    "with open('normal_file.txt', 'r') as file:\n",
    "    lines = file.readlines()\n",
    "\n",
    "data = []\n",
    "\n",
    "for line in lines:\n",
    "    line = line.strip()  # Remove leading/trailing white spaces\n",
    "    parts = line.rsplit('_', 3)  # Split the line from the right side, maximum 3 splits\n",
    "    index_speed_time = '_'.join(parts[:-3])\n",
    "    param1 = parts[-3]\n",
    "    param2 = parts[-2]\n",
    "    param3 = parts[-1]\n",
    "    data.append([index_speed_time, param1, param2, param3])\n",
    "\n",
    "# Create a DataFrame\n",
    "df = pd.DataFrame(data, columns=['Index_Speed_Time', 'Param1', 'Param2', 'Param3'])\n",
    "\n",
    "# Define the conditions\n",
    "conditions = ['D_5FM_Normal', 'D_5FM_Relax', 'D_50M_Normal', 'D_50M_Relax',\n",
    "              'P_5FM_Normal', 'P_5FM_Relax', 'P_50M_Normal', 'P_50M_Relax']\n",
    "\n",
    "# Create new features for each condition and perform one-hot encoding\n",
    "for condition in conditions:\n",
    "    df[condition] = df['Param1'] + '_' + df['Param2'] + '_' + df['Param3']\n",
    "    df[condition] = (df[condition] == condition).astype(int)\n",
    "\n",
    "# Save the DataFrame as a CSV file without index\n",
    "df.to_csv('output.csv', index=False)"
   ]
  },
  {
   "cell_type": "code",
   "execution_count": 26,
   "id": "11f70a36",
   "metadata": {
    "ExecuteTime": {
     "end_time": "2023-05-31T02:42:38.217123Z",
     "start_time": "2023-05-31T02:42:38.189791Z"
    }
   },
   "outputs": [],
   "source": [
    "# must edit normal_file format\n",
    "# 001_10kph_163541_D_50M_Normal\n",
    "import pandas as pd\n",
    "\n",
    "os.chdir(r\"Z:\\2022_Project\\25_CRASH_SCENARIO_DB_AND_TOOL\\Working\\230531_Scenario_indexing\")\n",
    "\n",
    "# Read the text file and extract the parameters\n",
    "with open('normal_file.txt', 'r') as file:\n",
    "    lines = file.readlines()\n",
    "\n",
    "data = []\n",
    "\n",
    "for line in lines:\n",
    "    line = line.strip()  # Remove leading/trailing white spaces\n",
    "    parts = line.rsplit('_', 3)  # Split the line from the right side, maximum 3 splits\n",
    "    index_speed_time = '_'.join(parts[:-3])\n",
    "    param1 = parts[-3]\n",
    "    param2 = parts[-2]\n",
    "    param3 = parts[-1]\n",
    "    data.append([index_speed_time, param1, param2, param3])\n",
    "\n",
    "# Create a DataFrame\n",
    "df = pd.DataFrame(data, columns=['Index_Speed_Time', 'Param1', 'Param2', 'Param3'])\n",
    "\n",
    "# Define the conditions\n",
    "conditions = ['D_5FM_Normal', 'D_5FM_Relax', 'D_50M_Normal', 'D_50M_Relax',\n",
    "              'P_5FM_Normal', 'P_5FM_Relax', 'P_50M_Normal', 'P_50M_Relax']\n",
    "\n",
    "# Create new features for each condition and perform one-hot encoding\n",
    "for condition in conditions:\n",
    "    df[condition] = df['Param1'] + '_' + df['Param2'] + '_' + df['Param3']\n",
    "    df[condition] = (df[condition] == condition).astype(int)\n",
    "\n",
    "df = df.drop(['Param1', 'Param2', 'Param3'], axis=1)\n",
    "df\n",
    "\n",
    "consolidated_df = df.groupby('Index_Speed_Time').max().reset_index()\n",
    "consolidated_df\n",
    "\n",
    "consolidated_df.to_csv('output.csv', index=False)"
   ]
  }
 ],
 "metadata": {
  "kernelspec": {
   "display_name": "Python 3 (ipykernel)",
   "language": "python",
   "name": "python3"
  },
  "language_info": {
   "codemirror_mode": {
    "name": "ipython",
    "version": 3
   },
   "file_extension": ".py",
   "mimetype": "text/x-python",
   "name": "python",
   "nbconvert_exporter": "python",
   "pygments_lexer": "ipython3",
   "version": "3.9.13"
  },
  "toc": {
   "base_numbering": 1,
   "nav_menu": {},
   "number_sections": true,
   "sideBar": true,
   "skip_h1_title": false,
   "title_cell": "Table of Contents",
   "title_sidebar": "Contents",
   "toc_cell": false,
   "toc_position": {},
   "toc_section_display": true,
   "toc_window_display": false
  },
  "varInspector": {
   "cols": {
    "lenName": 16,
    "lenType": 16,
    "lenVar": 40
   },
   "kernels_config": {
    "python": {
     "delete_cmd_postfix": "",
     "delete_cmd_prefix": "del ",
     "library": "var_list.py",
     "varRefreshCmd": "print(var_dic_list())"
    },
    "r": {
     "delete_cmd_postfix": ") ",
     "delete_cmd_prefix": "rm(",
     "library": "var_list.r",
     "varRefreshCmd": "cat(var_dic_list()) "
    }
   },
   "types_to_exclude": [
    "module",
    "function",
    "builtin_function_or_method",
    "instance",
    "_Feature"
   ],
   "window_display": false
  }
 },
 "nbformat": 4,
 "nbformat_minor": 5
}

{
 "cells": [
  {
   "cell_type": "code",
   "execution_count": 2,
   "id": "19e2f66d",
   "metadata": {
    "ExecuteTime": {
     "end_time": "2023-05-25T01:03:30.860676Z",
     "start_time": "2023-05-25T01:03:30.245402Z"
    }
   },
   "outputs": [
    {
     "name": "stdout",
     "output_type": "stream",
     "text": [
      "{'\\\\\\\\mad-2101\\\\YMSO\\\\Project\\\\MAD_TOOL\\\\230221_1727_301_CrashScenario_BatchResult_C2C\\\\madymo\\\\3_012721\\\\OccupantDOE': ['NE_ROBO_SN01_100kph_P_H3_50M_BASE_PARA_Normal_INC.xml', 'NE_ROBO_SN01_100kph_P_H3_50M_BASE_PARA_Relax_INC.xml', 'NE_ROBO_SN01_100kph_P_H3_5FM_BASE_PARA_Normal_INC.xml', 'NE_ROBO_SN01_100kph_P_H3_5FM_BASE_PARA_Relax_INC.xml'], '\\\\\\\\mad-2101\\\\YMSO\\\\Project\\\\MAD_TOOL\\\\230221_1727_301_CrashScenario_BatchResult_C2C\\\\madymo\\\\3_031201\\\\OccupantDOE': ['NE_ROBO_SN01_100kph_P_H3_50M_BASE_PARA_Normal_INC.xml', 'NE_ROBO_SN01_100kph_P_H3_50M_BASE_PARA_Relax_INC.xml', 'NE_ROBO_SN01_100kph_P_H3_5FM_BASE_PARA_Normal_INC.xml', 'NE_ROBO_SN01_100kph_P_H3_5FM_BASE_PARA_Relax_INC.xml'], '\\\\\\\\mad-2101\\\\YMSO\\\\Project\\\\MAD_TOOL\\\\230221_1727_301_CrashScenario_BatchResult_C2C\\\\madymo\\\\3_162837\\\\OccupantDOE': ['NE_ROBO_SN01_100kph_P_H3_50M_BASE_PARA_Normal_INC.xml', 'NE_ROBO_SN01_100kph_P_H3_50M_BASE_PARA_Relax_INC.xml', 'NE_ROBO_SN01_100kph_P_H3_5FM_BASE_PARA_Normal_INC.xml', 'NE_ROBO_SN01_100kph_P_H3_5FM_BASE_PARA_Relax_INC.xml'], '\\\\\\\\mad-2101\\\\YMSO\\\\Project\\\\MAD_TOOL\\\\230221_1727_301_CrashScenario_BatchResult_C2C\\\\madymo\\\\3_164317\\\\OccupantDOE': ['NE_ROBO_SN01_100kph_P_H3_50M_BASE_PARA_Normal_INC.xml', 'NE_ROBO_SN01_100kph_P_H3_50M_BASE_PARA_Relax_INC.xml', 'NE_ROBO_SN01_100kph_P_H3_5FM_BASE_PARA_Normal_INC.xml', 'NE_ROBO_SN01_100kph_P_H3_5FM_BASE_PARA_Relax_INC.xml'], '\\\\\\\\mad-2101\\\\YMSO\\\\Project\\\\MAD_TOOL\\\\230221_1727_301_CrashScenario_BatchResult_C2C\\\\madymo\\\\3_170554\\\\OccupantDOE': ['NE_ROBO_SN01_100kph_P_H3_50M_BASE_PARA_Normal_INC.xml', 'NE_ROBO_SN01_100kph_P_H3_50M_BASE_PARA_Relax_INC.xml', 'NE_ROBO_SN01_100kph_P_H3_5FM_BASE_PARA_Normal_INC.xml', 'NE_ROBO_SN01_100kph_P_H3_5FM_BASE_PARA_Relax_INC.xml'], '\\\\\\\\mad-2101\\\\YMSO\\\\Project\\\\MAD_TOOL\\\\230221_1727_301_CrashScenario_BatchResult_C2C\\\\madymo\\\\3_173521\\\\OccupantDOE': ['NE_ROBO_SN01_100kph_P_H3_50M_BASE_PARA_Normal_INC.xml', 'NE_ROBO_SN01_100kph_P_H3_50M_BASE_PARA_Relax_INC.xml', 'NE_ROBO_SN01_100kph_P_H3_5FM_BASE_PARA_Normal_INC.xml', 'NE_ROBO_SN01_100kph_P_H3_5FM_BASE_PARA_Relax_INC.xml'], '\\\\\\\\mad-2101\\\\YMSO\\\\Project\\\\MAD_TOOL\\\\230221_1727_301_CrashScenario_BatchResult_C2C\\\\madymo\\\\3_181529\\\\OccupantDOE': ['NE_ROBO_SN01_100kph_P_H3_50M_BASE_PARA_Normal_INC.xml', 'NE_ROBO_SN01_100kph_P_H3_50M_BASE_PARA_Relax_INC.xml', 'NE_ROBO_SN01_100kph_P_H3_5FM_BASE_PARA_Normal_INC.xml', 'NE_ROBO_SN01_100kph_P_H3_5FM_BASE_PARA_Relax_INC.xml'], '\\\\\\\\mad-2101\\\\YMSO\\\\Project\\\\MAD_TOOL\\\\230221_1727_301_CrashScenario_BatchResult_C2C\\\\madymo\\\\3_190334\\\\OccupantDOE': ['NE_ROBO_SN01_100kph_P_H3_50M_BASE_PARA_Normal_INC.xml', 'NE_ROBO_SN01_100kph_P_H3_50M_BASE_PARA_Relax_INC.xml', 'NE_ROBO_SN01_100kph_P_H3_5FM_BASE_PARA_Normal_INC.xml', 'NE_ROBO_SN01_100kph_P_H3_5FM_BASE_PARA_Relax_INC.xml'], '\\\\\\\\mad-2101\\\\YMSO\\\\Project\\\\MAD_TOOL\\\\230221_1727_301_CrashScenario_BatchResult_C2C\\\\madymo\\\\3_200202\\\\OccupantDOE': ['NE_ROBO_SN01_100kph_P_H3_50M_BASE_PARA_Normal_INC.xml', 'NE_ROBO_SN01_100kph_P_H3_50M_BASE_PARA_Relax_INC.xml', 'NE_ROBO_SN01_100kph_P_H3_5FM_BASE_PARA_Normal_INC.xml', 'NE_ROBO_SN01_100kph_P_H3_5FM_BASE_PARA_Relax_INC.xml'], '\\\\\\\\mad-2101\\\\YMSO\\\\Project\\\\MAD_TOOL\\\\230221_1727_301_CrashScenario_BatchResult_C2C\\\\madymo\\\\3_210934\\\\OccupantDOE': ['NE_ROBO_SN01_100kph_P_H3_50M_BASE_PARA_Normal_INC.xml', 'NE_ROBO_SN01_100kph_P_H3_50M_BASE_PARA_Relax_INC.xml', 'NE_ROBO_SN01_100kph_P_H3_5FM_BASE_PARA_Normal_INC.xml', 'NE_ROBO_SN01_100kph_P_H3_5FM_BASE_PARA_Relax_INC.xml'], '\\\\\\\\mad-2101\\\\YMSO\\\\Project\\\\MAD_TOOL\\\\230221_1727_301_CrashScenario_BatchResult_C2C\\\\madymo\\\\3_222550\\\\OccupantDOE': ['NE_ROBO_SN01_100kph_P_H3_50M_BASE_PARA_Normal_INC.xml', 'NE_ROBO_SN01_100kph_P_H3_50M_BASE_PARA_Relax_INC.xml', 'NE_ROBO_SN01_100kph_P_H3_5FM_BASE_PARA_Normal_INC.xml', 'NE_ROBO_SN01_100kph_P_H3_5FM_BASE_PARA_Relax_INC.xml'], '\\\\\\\\mad-2101\\\\YMSO\\\\Project\\\\MAD_TOOL\\\\230221_1727_301_CrashScenario_BatchResult_C2C\\\\madymo\\\\3_235157\\\\OccupantDOE': ['NE_ROBO_SN01_100kph_P_H3_50M_BASE_PARA_Normal_INC.xml', 'NE_ROBO_SN01_100kph_P_H3_50M_BASE_PARA_Relax_INC.xml', 'NE_ROBO_SN01_100kph_P_H3_5FM_BASE_PARA_Normal_INC.xml', 'NE_ROBO_SN01_100kph_P_H3_5FM_BASE_PARA_Relax_INC.xml']}\n"
     ]
    }
   ],
   "source": [
    "import os\n",
    "import glob\n",
    "\n",
    "def process_folder(folder_path, result):\n",
    "    os.chdir(folder_path)\n",
    "    xml_files = glob.glob(\"*_P_*.xml\")\n",
    "    xml_files_10mb = [xml_file for xml_file in xml_files if os.path.getsize(xml_file) >= 5 *  1024 * 1024]\n",
    "    if xml_files_10mb:\n",
    "        result[folder_path] = xml_files_10mb\n",
    "\n",
    "    subfolder_paths = [os.path.join(folder_path, subfolder) for subfolder in os.listdir() if os.path.isdir(subfolder)]\n",
    "    for subfolder_path in subfolder_paths:\n",
    "        process_folder(subfolder_path, result)\n",
    "\n",
    "root_dir = (r\"\\\\mad-2202\\SYM\\MAD_TOOL\\_3_C2C_Scenario_RUN_2nd\\230222_0954_302_CrashScenario_BatchResult_C2C\\madymo\")\n",
    "dirs = root_dir.split(\"\\\\\")[1:]\n",
    "os.chdir(root_dir)\n",
    "working_directory = os.getcwd()\n",
    "\n",
    "result = {}\n",
    "process_folder(working_directory, result)\n",
    "\n",
    "print(result)\n",
    "os.chdir(root_dir)\n",
    "with open(\"batch_file.bat\", \"w\") as f:\n",
    "    for subfolder_path, xml_files in result.items():\n",
    "        subfolder_path = subfolder_path.replace(\"\\\\\\\\\" +dirs[1], \"D:\")\n",
    "        f.write(f\"cd {subfolder_path}\\n\")\n",
    "        for xml_file in xml_files:\n",
    "            f.write(f\"madymo78 -nrproc 8 {xml_file}\\n\\n\")\n",
    "    f.write(\"pause\")"
   ]
  },
  {
   "cell_type": "code",
   "execution_count": null,
   "id": "f5aafc11",
   "metadata": {},
   "outputs": [],
   "source": []
  }
 ],
 "metadata": {
  "kernelspec": {
   "display_name": "Python 3 (ipykernel)",
   "language": "python",
   "name": "python3"
  },
  "language_info": {
   "codemirror_mode": {
    "name": "ipython",
    "version": 3
   },
   "file_extension": ".py",
   "mimetype": "text/x-python",
   "name": "python",
   "nbconvert_exporter": "python",
   "pygments_lexer": "ipython3",
   "version": "3.9.13"
  },
  "toc": {
   "base_numbering": 1,
   "nav_menu": {},
   "number_sections": true,
   "sideBar": true,
   "skip_h1_title": false,
   "title_cell": "Table of Contents",
   "title_sidebar": "Contents",
   "toc_cell": false,
   "toc_position": {},
   "toc_section_display": true,
   "toc_window_display": false
  },
  "varInspector": {
   "cols": {
    "lenName": 16,
    "lenType": 16,
    "lenVar": 40
   },
   "kernels_config": {
    "python": {
     "delete_cmd_postfix": "",
     "delete_cmd_prefix": "del ",
     "library": "var_list.py",
     "varRefreshCmd": "print(var_dic_list())"
    },
    "r": {
     "delete_cmd_postfix": ") ",
     "delete_cmd_prefix": "rm(",
     "library": "var_list.r",
     "varRefreshCmd": "cat(var_dic_list()) "
    }
   },
   "types_to_exclude": [
    "module",
    "function",
    "builtin_function_or_method",
    "instance",
    "_Feature"
   ],
   "window_display": false
  }
 },
 "nbformat": 4,
 "nbformat_minor": 5
}

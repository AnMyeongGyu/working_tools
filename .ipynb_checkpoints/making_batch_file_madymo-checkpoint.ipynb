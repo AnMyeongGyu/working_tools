{
 "cells": [
  {
   "cell_type": "code",
   "execution_count": 2,
   "id": "19e2f66d",
   "metadata": {
    "ExecuteTime": {
     "end_time": "2023-02-02T00:41:20.831409Z",
     "start_time": "2023-02-02T00:41:20.580865Z"
    }
   },
   "outputs": [
    {
     "name": "stdout",
     "output_type": "stream",
     "text": [
      "{'\\\\\\\\mad-2101\\\\AMG\\\\Deep_Learning\\\\230131_debug\\\\DOE_BASE_MODEL_K_PULSE_VENT20': ['DOE_DEEP_LEARNING_DN8_BASE_USNCAP_FRT_DRV_PARA_BELT_FIT.xml'], '\\\\\\\\mad-2101\\\\AMG\\\\Deep_Learning\\\\230131_debug\\\\DOE_BASE_MODEL_K_PULSE_VENT20\\\\RUN0094': ['DOE_DEEP_LEARNING_DN8_BASE_USNCAP_FRT_DRV_PARA_BELT_FIT.xml'], '\\\\\\\\mad-2101\\\\AMG\\\\Deep_Learning\\\\230131_debug\\\\DOE_BASE_MODEL_K_PULSE_VENT25': ['DOE_DEEP_LEARNING_DN8_BASE_USNCAP_FRT_DRV_PARA_BELT_FIT.xml'], '\\\\\\\\mad-2101\\\\AMG\\\\Deep_Learning\\\\230131_debug\\\\DOE_BASE_MODEL_K_PULSE_VENT25\\\\RUN0009': ['DOE_DEEP_LEARNING_DN8_BASE_USNCAP_FRT_DRV_PARA_BELT_FIT.xml'], '\\\\\\\\mad-2101\\\\AMG\\\\Deep_Learning\\\\230131_debug\\\\DOE_BASE_MODEL_K_PULSE_VENT25\\\\RUN0042': ['DOE_DEEP_LEARNING_DN8_BASE_USNCAP_FRT_DRV_PARA_BELT_FIT.xml'], '\\\\\\\\mad-2101\\\\AMG\\\\Deep_Learning\\\\230131_debug\\\\DOE_BASE_MODEL_K_PULSE_VENT25\\\\RUN0108': ['DOE_DEEP_LEARNING_DN8_BASE_USNCAP_FRT_DRV_PARA_BELT_FIT.xml'], '\\\\\\\\mad-2101\\\\AMG\\\\Deep_Learning\\\\230131_debug\\\\DOE_BASE_MODEL_K_PULSE_VENT30': ['DOE_DEEP_LEARNING_DN8_BASE_USNCAP_FRT_DRV_PARA_BELT_FIT.xml'], '\\\\\\\\mad-2101\\\\AMG\\\\Deep_Learning\\\\230131_debug\\\\DOE_BASE_MODEL_K_PULSE_VENT30\\\\RUN0015': ['DOE_DEEP_LEARNING_DN8_BASE_USNCAP_FRT_DRV_PARA_BELT_FIT.xml'], '\\\\\\\\mad-2101\\\\AMG\\\\Deep_Learning\\\\230131_debug\\\\DOE_BASE_MODEL_K_PULSE_VENT30\\\\RUN0030': ['DOE_DEEP_LEARNING_DN8_BASE_USNCAP_FRT_DRV_PARA_BELT_FIT.xml'], '\\\\\\\\mad-2101\\\\AMG\\\\Deep_Learning\\\\230131_debug\\\\DOE_BASE_MODEL_K_PULSE_VENT30\\\\RUN0065': ['DOE_DEEP_LEARNING_DN8_BASE_USNCAP_FRT_DRV_PARA_BELT_FIT.xml']}\n"
     ]
    }
   ],
   "source": [
    "import os\n",
    "import glob\n",
    "\n",
    "def process_folder(folder_path, result):\n",
    "    os.chdir(folder_path)\n",
    "    xml_files = glob.glob(\"*.xml\")\n",
    "    xml_files_10mb = [xml_file for xml_file in xml_files if os.path.getsize(xml_file) >= 10 * 1024 * 1024]\n",
    "    if xml_files_10mb:\n",
    "        result[folder_path] = xml_files_10mb\n",
    "\n",
    "    subfolder_paths = [os.path.join(folder_path, subfolder) for subfolder in os.listdir() if os.path.isdir(subfolder)]\n",
    "    for subfolder_path in subfolder_paths:\n",
    "        process_folder(subfolder_path, result)\n",
    "\n",
    "root_dir = (r\"\\\\mad-2101\\AMG\\Deep_Learning\\230131_debug\")\n",
    "dirs = root_dir.split(\"\\\\\")[1:]\n",
    "os.chdir(root_dir)\n",
    "working_directory = os.getcwd()\n",
    "\n",
    "result = {}\n",
    "process_folder(working_directory, result)\n",
    "\n",
    "print(result)\n",
    "os.chdir(root_dir)\n",
    "with open(\"batch_file.bat\", \"w\") as f:\n",
    "    for subfolder_path, xml_files in result.items():\n",
    "        subfolder_path = subfolder_path.replace(\"\\\\\\\\\" +dirs[1], \"D:\")\n",
    "        f.write(f\"cd {subfolder_path}\\n\")\n",
    "        for xml_file in xml_files:\n",
    "            f.write(f\"madymo78 -nrproc 8 {xml_file}\\n\\n\")\n",
    "    f.write(\"pause\")"
   ]
  },
  {
   "cell_type": "code",
   "execution_count": null,
   "id": "f5aafc11",
   "metadata": {},
   "outputs": [],
   "source": []
  }
 ],
 "metadata": {
  "kernelspec": {
   "display_name": "Python 3 (ipykernel)",
   "language": "python",
   "name": "python3"
  },
  "language_info": {
   "codemirror_mode": {
    "name": "ipython",
    "version": 3
   },
   "file_extension": ".py",
   "mimetype": "text/x-python",
   "name": "python",
   "nbconvert_exporter": "python",
   "pygments_lexer": "ipython3",
   "version": "3.9.13"
  },
  "toc": {
   "base_numbering": 1,
   "nav_menu": {},
   "number_sections": true,
   "sideBar": true,
   "skip_h1_title": false,
   "title_cell": "Table of Contents",
   "title_sidebar": "Contents",
   "toc_cell": false,
   "toc_position": {},
   "toc_section_display": true,
   "toc_window_display": false
  },
  "varInspector": {
   "cols": {
    "lenName": 16,
    "lenType": 16,
    "lenVar": 40
   },
   "kernels_config": {
    "python": {
     "delete_cmd_postfix": "",
     "delete_cmd_prefix": "del ",
     "library": "var_list.py",
     "varRefreshCmd": "print(var_dic_list())"
    },
    "r": {
     "delete_cmd_postfix": ") ",
     "delete_cmd_prefix": "rm(",
     "library": "var_list.r",
     "varRefreshCmd": "cat(var_dic_list()) "
    }
   },
   "types_to_exclude": [
    "module",
    "function",
    "builtin_function_or_method",
    "instance",
    "_Feature"
   ],
   "window_display": false
  }
 },
 "nbformat": 4,
 "nbformat_minor": 5
}

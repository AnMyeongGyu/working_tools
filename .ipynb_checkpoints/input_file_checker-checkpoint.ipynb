{
 "cells": [
  {
   "cell_type": "code",
   "execution_count": 8,
   "id": "c16108fd",
   "metadata": {
    "ExecuteTime": {
     "end_time": "2023-02-16T01:19:37.269537Z",
     "start_time": "2023-02-16T01:19:37.249071Z"
    }
   },
   "outputs": [],
   "source": [
    "import os\n",
    "import sys\n",
    "\n",
    "directory = 'D:/test/dyna_check_more'  # Set the parent directory\n",
    "target = '*INITIAL_VELOCITY'\n",
    "target = target.replace('*', '')\n",
    "file_extension ='.dyn'\n",
    "num_lines = 2  # Set the number of lines to print after target\n",
    "output_file = os.path.join(directory, target +'.txt')  # Set the output file path\n",
    "\n",
    "# Redirect the standard output to the output file\n",
    "sys.stdout = open(output_file, 'w')\n",
    "\n",
    "# Loop through all files in the directory tree with a extension\n",
    "for root, dirs, files in os.walk(directory):\n",
    "    for file_name in files:\n",
    "        if file_name.endswith(file_extension):\n",
    "            file_path = os.path.join(root, file_name)\n",
    "            rel_path = os.path.relpath(file_path, directory)\n",
    "            folder_name = os.path.dirname(rel_path)\n",
    "            # Read the file line by line\n",
    "            with open(file_path, 'r') as file:\n",
    "                for line in file:\n",
    "                    # Check if the line contains target\n",
    "                    if target in line:\n",
    "                        # If it does, print the line and the next N lines\n",
    "                        print('{} : {}\\n{}'.format(folder_name, file_name, line.strip()))\n",
    "                        for i in range(num_lines):\n",
    "                            next_line = next(file, '').strip()\n",
    "                            print(next_line)\n",
    "                        print()\n",
    "                        break  # Exit the loop after printing the lines\n",
    "\n",
    "# Close the output file and reset the standard output\n",
    "sys.stdout.close()\n",
    "sys.stdout = sys.__stdout__"
   ]
  },
  {
   "cell_type": "code",
   "execution_count": null,
   "id": "ec1b2066",
   "metadata": {},
   "outputs": [],
   "source": []
  }
 ],
 "metadata": {
  "kernelspec": {
   "display_name": "Python 3 (ipykernel)",
   "language": "python",
   "name": "python3"
  },
  "language_info": {
   "codemirror_mode": {
    "name": "ipython",
    "version": 3
   },
   "file_extension": ".py",
   "mimetype": "text/x-python",
   "name": "python",
   "nbconvert_exporter": "python",
   "pygments_lexer": "ipython3",
   "version": "3.9.13"
  },
  "toc": {
   "base_numbering": 1,
   "nav_menu": {},
   "number_sections": true,
   "sideBar": true,
   "skip_h1_title": false,
   "title_cell": "Table of Contents",
   "title_sidebar": "Contents",
   "toc_cell": false,
   "toc_position": {},
   "toc_section_display": true,
   "toc_window_display": false
  },
  "varInspector": {
   "cols": {
    "lenName": 16,
    "lenType": 16,
    "lenVar": 40
   },
   "kernels_config": {
    "python": {
     "delete_cmd_postfix": "",
     "delete_cmd_prefix": "del ",
     "library": "var_list.py",
     "varRefreshCmd": "print(var_dic_list())"
    },
    "r": {
     "delete_cmd_postfix": ") ",
     "delete_cmd_prefix": "rm(",
     "library": "var_list.r",
     "varRefreshCmd": "cat(var_dic_list()) "
    }
   },
   "types_to_exclude": [
    "module",
    "function",
    "builtin_function_or_method",
    "instance",
    "_Feature"
   ],
   "window_display": false
  }
 },
 "nbformat": 4,
 "nbformat_minor": 5
}

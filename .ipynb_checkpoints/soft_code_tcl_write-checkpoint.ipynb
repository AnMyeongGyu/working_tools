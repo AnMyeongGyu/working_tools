{
 "cells": [
  {
   "cell_type": "code",
   "execution_count": 34,
   "id": "67c69983",
   "metadata": {
    "ExecuteTime": {
     "end_time": "2023-01-18T08:43:27.409657Z",
     "start_time": "2023-01-18T08:43:27.400854Z"
    }
   },
   "outputs": [
    {
     "name": "stdout",
     "output_type": "stream",
     "text": [
      "['E:/2023_Project/20_SIDE_IMPACT/WORKING/02_Pole/08_SID2S/64_SID2S_23deg_Nan', 'E:/2023_Project/20_SIDE_IMPACT/WORKING/02_Pole/08_SID2S/65_SID2S_23deg_B_pil', 'E:/2023_Project/20_SIDE_IMPACT/WORKING/02_Pole/08_SID2S/66_SID2S_23deg_BIS', 'E:/2023_Project/20_SIDE_IMPACT/WORKING/02_Pole/08_SID2S/67_SID2S_35deg_Nan', 'E:/2023_Project/20_SIDE_IMPACT/WORKING/02_Pole/08_SID2S/68_SID2S_35deg_B_pil', 'E:/2023_Project/20_SIDE_IMPACT/WORKING/02_Pole/08_SID2S/69_SID2S_35deg_BIS', 'E:/2023_Project/20_SIDE_IMPACT/WORKING/02_Pole/08_SID2S/70_SID2S_50deg_Nan', 'E:/2023_Project/20_SIDE_IMPACT/WORKING/02_Pole/08_SID2S/71_SID2S_50deg_B_pil', 'E:/2023_Project/20_SIDE_IMPACT/WORKING/02_Pole/08_SID2S/72_SID2S_50deg_BIS']\n",
      "['64_SID2S_23deg_Nan', '65_SID2S_23deg_B_pil', '66_SID2S_23deg_BIS', '67_SID2S_35deg_Nan', '68_SID2S_35deg_B_pil', '69_SID2S_35deg_BIS', '70_SID2S_50deg_Nan', '71_SID2S_50deg_B_pil', '72_SID2S_50deg_BIS']\n"
     ]
    }
   ],
   "source": [
    "# 폴더의 서브 폴더 리스트 뽑기\n",
    "import os\n",
    "\n",
    "#루트 폴더의 경로 역슬래시 슬래시 변환\n",
    "rootdir = r'E:\\2023_Project\\20_SIDE_IMPACT\\WORKING\\02_Pole\\08_SID2S'\n",
    "rootdir_replaced = rootdir.replace(os.sep, '/')\n",
    "\n",
    "#현재 디렉토리 파일과 폴더 가져와서 폴더만 남기고 리스트에 추가\n",
    "os.chdir(rootdir)\n",
    "folder_list = []\n",
    "for file in os.listdir(rootdir):\n",
    "    d = os.path.join(rootdir, file)\n",
    "    c = d.replace(os.sep, '/')\n",
    "    if os.path.isdir(c):\n",
    "        #         print(c)\n",
    "        folder_list.append(c)\n",
    "print(folder_list)\n",
    "# 리스트 내부의 절대경로 삭제\n",
    "search = rootdir_replaced\n",
    "for i, word in enumerate(folder_list):\n",
    "    if search in word:\n",
    "        folder_list[i] = word.lstrip(search)\n",
    "print(folder_list)"
   ]
  },
  {
   "cell_type": "code",
   "execution_count": 35,
   "id": "e09bf257",
   "metadata": {
    "ExecuteTime": {
     "end_time": "2023-01-18T08:43:27.415101Z",
     "start_time": "2023-01-18T08:43:27.409657Z"
    }
   },
   "outputs": [
    {
     "name": "stdout",
     "output_type": "stream",
     "text": [
      "64_SID2S_23deg_Nan 65_SID2S_23deg_B_pil 66_SID2S_23deg_BIS 67_SID2S_35deg_Nan 68_SID2S_35deg_B_pil 69_SID2S_35deg_BIS 70_SID2S_50deg_Nan 71_SID2S_50deg_B_pil 72_SID2S_50deg_BIS\n"
     ]
    }
   ],
   "source": [
    "# 폴더 리스트를 문자열로 변환\n",
    "folder_list_string = ' '.join(s for s in folder_list)\n",
    "print(folder_list_string)"
   ]
  },
  {
   "cell_type": "code",
   "execution_count": 36,
   "id": "549b4357",
   "metadata": {
    "ExecuteTime": {
     "end_time": "2023-01-18T08:43:27.430311Z",
     "start_time": "2023-01-18T08:43:27.415101Z"
    }
   },
   "outputs": [
    {
     "name": "stdout",
     "output_type": "stream",
     "text": [
      "E:/2023_Project/20_SIDE_IMPACT/WORKING/02_Pole/08_SID2S/64_SID2S_23deg_Nan\n"
     ]
    }
   ],
   "source": [
    "# 폴더 내부 MVW 파일 불러오기\n",
    "mvw_file_folder = os.path.join(rootdir, folder_list[0])\n",
    "mvw_file_folder_replaced = mvw_file_folder.replace(os.sep, '/')\n",
    "print(mvw_file_folder_replaced)"
   ]
  },
  {
   "cell_type": "code",
   "execution_count": 37,
   "id": "4fd092b3",
   "metadata": {
    "ExecuteTime": {
     "end_time": "2023-01-18T08:43:27.445688Z",
     "start_time": "2023-01-18T08:43:27.430311Z"
    }
   },
   "outputs": [],
   "source": [
    "# # 폴더 내부 csv 파일 가져오기 - 확장자 이용\n",
    "# # print(os.listdir(csv_file_folder_replaced))\n",
    "# csv_file_list= [f for f in sorted(os.listdir(csv_file_folder_replaced)) if (str(f))[-3:] == \"mvw\"]\n",
    "\n",
    "# print(csv_file_list)"
   ]
  },
  {
   "cell_type": "code",
   "execution_count": 38,
   "id": "2b0f7118",
   "metadata": {
    "ExecuteTime": {
     "end_time": "2023-01-18T08:43:27.461156Z",
     "start_time": "2023-01-18T08:43:27.446357Z"
    }
   },
   "outputs": [
    {
     "name": "stdout",
     "output_type": "stream",
     "text": [
      "00_SID2s_F05_Pelvis 01_SID2s_UPR_chest_Lock 01_SID2s_UPR_chest_UnLock 02_SID2s_MID_chest_Lock 02_SID2s_MID_chest_UnLock 03_SID2s_LWR_chest_Lock 03_SID2s_LWR_chest_UnLock\n"
     ]
    }
   ],
   "source": [
    "# glob 라이브러리 이용해서 mvw 파일 목록 가져오기\n",
    "import glob\n",
    "\n",
    "os.chdir(mvw_file_folder_replaced)\n",
    "mvw_files = glob.glob(\"*.mvw\")\n",
    "mvw_file_list = mvw_files[0:7]\n",
    "mvw_file_list_none = []\n",
    "for x in mvw_file_list:\n",
    "    mvw_file_list_none.append(os.path.splitext(x)[0])\n",
    "mvw_list_string = ' '.join(s for s in mvw_file_list_none)\n",
    "print(mvw_list_string)"
   ]
  },
  {
   "cell_type": "code",
   "execution_count": 39,
   "id": "af6d1dcf",
   "metadata": {
    "ExecuteTime": {
     "end_time": "2023-01-18T08:43:27.478825Z",
     "start_time": "2023-01-18T08:43:27.462155Z"
    },
    "scrolled": true
   },
   "outputs": [
    {
     "name": "stdout",
     "output_type": "stream",
     "text": [
      "['64_SID2S_23deg_Nan', '65_SID2S_23deg_B_pil', '66_SID2S_23deg_BIS', '67_SID2S_35deg_Nan', '68_SID2S_35deg_B_pil', '69_SID2S_35deg_BIS', '70_SID2S_50deg_Nan', '71_SID2S_50deg_B_pil', '72_SID2S_50deg_BIS']\n",
      "--------------------------------------------------------------------------------\n",
      "['00_SID2s_F05_Pelvis', '01_SID2s_UPR_chest_Lock', '01_SID2s_UPR_chest_UnLock', '02_SID2s_MID_chest_Lock', '02_SID2s_MID_chest_UnLock', '03_SID2s_LWR_chest_Lock', '03_SID2s_LWR_chest_UnLock']\n"
     ]
    }
   ],
   "source": [
    "#서브 폴더, MVW 파일 체크\n",
    "print(folder_list)\n",
    "print(\"-\" * 80)\n",
    "print(mvw_file_list_none)"
   ]
  },
  {
   "cell_type": "code",
   "execution_count": 40,
   "id": "30b08f04",
   "metadata": {
    "ExecuteTime": {
     "end_time": "2023-01-18T08:43:27.494708Z",
     "start_time": "2023-01-18T08:43:27.478825Z"
    }
   },
   "outputs": [],
   "source": [
    "# tcl 파일 작성\n",
    "os.chdir(rootdir_replaced)\n",
    "f = open(\"soft_coding_csv_loop.tcl\", 'w')\n",
    "f.write(\"set folder1 [list \" + str(folder_list_string) + \"]\\n\")\n",
    "f.write(\"set folder2 [list \" + str(mvw_list_string) + \"]\\n\")\n",
    "f.write(\"foreach {path1} $folder1 {\\nforeach {path2} $folder2 {\\n\\\n",
    "hwc open session E:/2023_Project/20_SIDE_IMPACT/WORKING/02_Pole/08_SID2S/${path1}/${path2}.mvw replace\\n\"\n",
    "        )\n",
    "f.write(\"hwc animate start\\n\\\n",
    "hwc animate stop\\n\\\n",
    "hwc hwd page current activewindow=2\\n\\\n",
    "hwi GetSessionHandle sess1\\n\")\n",
    "f.write(\n",
    "    'sess1 ExportCurves \"E:/2023_Project/20_SIDE_IMPACT/WORKING/02_Pole/08_SID2S/${path1}/${path2}.csv\" \"CSV BLOCKS\" plot\\n'\n",
    ")\n",
    "f.write(\"sess1 ReleaseHandle\\nhwc delete session\\n}\\n}\\n\\n\")\n",
    "f.close()"
   ]
  },
  {
   "cell_type": "code",
   "execution_count": 41,
   "id": "cda0bf3d",
   "metadata": {
    "ExecuteTime": {
     "end_time": "2023-01-18T08:43:27.514202Z",
     "start_time": "2023-01-18T08:43:27.495707Z"
    }
   },
   "outputs": [
    {
     "data": {
      "text/plain": [
       "0"
      ]
     },
     "execution_count": 41,
     "metadata": {},
     "output_type": "execute_result"
    }
   ],
   "source": [
    "# hw.exe 실행\n",
    "os.system(\"start hw.exe -b -tcl ./soft_coding_csv_loop.tcl\")"
   ]
  }
 ],
 "metadata": {
  "kernelspec": {
   "display_name": "Python 3 (ipykernel)",
   "language": "python",
   "name": "python3"
  },
  "language_info": {
   "codemirror_mode": {
    "name": "ipython",
    "version": 3
   },
   "file_extension": ".py",
   "mimetype": "text/x-python",
   "name": "python",
   "nbconvert_exporter": "python",
   "pygments_lexer": "ipython3",
   "version": "3.9.13"
  },
  "toc": {
   "base_numbering": 1,
   "nav_menu": {},
   "number_sections": true,
   "sideBar": true,
   "skip_h1_title": false,
   "title_cell": "Table of Contents",
   "title_sidebar": "Contents",
   "toc_cell": false,
   "toc_position": {},
   "toc_section_display": true,
   "toc_window_display": false
  },
  "varInspector": {
   "cols": {
    "lenName": 16,
    "lenType": 16,
    "lenVar": 40
   },
   "kernels_config": {
    "python": {
     "delete_cmd_postfix": "",
     "delete_cmd_prefix": "del ",
     "library": "var_list.py",
     "varRefreshCmd": "print(var_dic_list())"
    },
    "r": {
     "delete_cmd_postfix": ") ",
     "delete_cmd_prefix": "rm(",
     "library": "var_list.r",
     "varRefreshCmd": "cat(var_dic_list()) "
    }
   },
   "types_to_exclude": [
    "module",
    "function",
    "builtin_function_or_method",
    "instance",
    "_Feature"
   ],
   "window_display": false
  }
 },
 "nbformat": 4,
 "nbformat_minor": 5
}

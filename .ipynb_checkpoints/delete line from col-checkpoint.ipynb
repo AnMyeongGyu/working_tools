{
 "cells": [
  {
   "cell_type": "code",
   "execution_count": 1,
   "id": "0433b0ce",
   "metadata": {
    "ExecuteTime": {
     "end_time": "2023-01-25T06:40:12.300362Z",
     "start_time": "2023-01-25T06:40:12.273238Z"
    }
   },
   "outputs": [
    {
     "name": "stdout",
     "output_type": "stream",
     "text": [
      "['Case1', 'Case2', 'Case4', 'Case5', 'Case7', 'Case8', 'Case9', 'Case10']\n"
     ]
    }
   ],
   "source": [
    "# 폴더의 서브 폴더 리스트 뽑기\n",
    "import os\n",
    "\n",
    "#루트 폴더의 경로 역슬래시 슬래시 변환\n",
    "rootdir = r'D:\\test\\col_to_xml'\n",
    "rootdir_replaced = rootdir.replace(os.sep, '/')\n",
    "\n",
    "#현재 디렉토리 파일과 폴더 가져와서 폴더만 남기고 리스트에 추가\n",
    "os.chdir(rootdir)\n",
    "folder_list = []\n",
    "for file in os.listdir(rootdir):\n",
    "    d = os.path.join(rootdir, file)\n",
    "    c = d.replace(os.sep, '/')\n",
    "    if os.path.isdir(c):\n",
    "        #         print(c)\n",
    "        folder_list.append(c)\n",
    "# print(folder_list)\n",
    "\n",
    "# 폴더 리스트 내부의 절대경로 삭제\n",
    "search = rootdir_replaced\n",
    "for i, word in enumerate(folder_list):\n",
    "    if search in word:\n",
    "        folder_list[i] = word.lstrip(search)\n",
    "\n",
    "# 문자열 포함 sorting\n",
    "# !pip install natsort\n",
    "from natsort import natsorted\n",
    "\n",
    "folder_list = natsorted(folder_list)\n",
    "print(folder_list)"
   ]
  },
  {
   "cell_type": "code",
   "execution_count": 2,
   "id": "5c3f6365",
   "metadata": {
    "ExecuteTime": {
     "end_time": "2023-01-25T06:40:12.321783Z",
     "start_time": "2023-01-25T06:40:12.301363Z"
    },
    "scrolled": true
   },
   "outputs": [
    {
     "name": "stdout",
     "output_type": "stream",
     "text": [
      "['BPLR_LH_X.col', 'BPLR_LH_Y.col', 'BPLR_RH_X.col', 'BPLR_RH_Y.col']\n",
      "['BPLR_LH_X.col', 'BPLR_LH_Y.col', 'BPLR_RH_X.col', 'BPLR_RH_Y.col']\n",
      "['BPLR_LH_X.col', 'BPLR_LH_Y.col', 'BPLR_RH_X.col', 'BPLR_RH_Y.col']\n",
      "['BPLR_LH_X.col', 'BPLR_LH_Y.col', 'BPLR_RH_X.col', 'BPLR_RH_Y.col']\n",
      "['BPLR_LH_X.col', 'BPLR_LH_Y.col', 'BPLR_RH_X.col', 'BPLR_RH_Y.col']\n",
      "['BPLR_LH_X.col', 'BPLR_LH_Y.col', 'BPLR_RH_X.col', 'BPLR_RH_Y.col']\n",
      "['BPLR_LH_X.col', 'BPLR_LH_Y.col', 'BPLR_RH_X.col', 'BPLR_RH_Y.col']\n",
      "['BPLR_LH_X.col', 'BPLR_LH_Y.col', 'BPLR_RH_X.col', 'BPLR_RH_Y.col']\n"
     ]
    }
   ],
   "source": [
    "# glob 라이브러리 이용해서 col 파일 목록 리스트 생성\n",
    "import glob\n",
    "for i, y in zip(folder_list, range(1, len(folder_list) + 1)):\n",
    "    os.chdir(os.path.join(rootdir_replaced, i))\n",
    "    globals()['col_' + str(y)] = glob.glob(\"*.col\")\n",
    "    print(globals()['col_' + str(y)])"
   ]
  },
  {
   "cell_type": "code",
   "execution_count": 3,
   "id": "149442e7",
   "metadata": {
    "ExecuteTime": {
     "end_time": "2023-01-25T06:40:12.337407Z",
     "start_time": "2023-01-25T06:40:12.322781Z"
    }
   },
   "outputs": [],
   "source": [
    "# 텍스트 파일 마지막 8줄 제거\n",
    "os.chdir(rootdir)\n",
    "\n",
    "for case, num in zip(folder_list, range(1, len(folder_list) + 1)):\n",
    "    for file in (globals()['col_' + str(num)]):\n",
    "        with open(case + \"/\" + file, 'r+') as fp:\n",
    "            # read an store all lines into list\n",
    "            lines = fp.readlines()\n",
    "            # move file pointer to the beginning of a file\n",
    "            fp.seek(0)\n",
    "            # truncate the file\n",
    "            fp.truncate()\n",
    "\n",
    "            # start writing lines except the last line\n",
    "            # lines[:-1] from line 0 to the second last line\n",
    "            fp.writelines(lines[:-8])"
   ]
  }
 ],
 "metadata": {
  "kernelspec": {
   "display_name": "Python 3 (ipykernel)",
   "language": "python",
   "name": "python3"
  },
  "language_info": {
   "codemirror_mode": {
    "name": "ipython",
    "version": 3
   },
   "file_extension": ".py",
   "mimetype": "text/x-python",
   "name": "python",
   "nbconvert_exporter": "python",
   "pygments_lexer": "ipython3",
   "version": "3.9.13"
  },
  "toc": {
   "base_numbering": 1,
   "nav_menu": {},
   "number_sections": true,
   "sideBar": true,
   "skip_h1_title": false,
   "title_cell": "Table of Contents",
   "title_sidebar": "Contents",
   "toc_cell": false,
   "toc_position": {},
   "toc_section_display": true,
   "toc_window_display": false
  },
  "varInspector": {
   "cols": {
    "lenName": 16,
    "lenType": 16,
    "lenVar": 40
   },
   "kernels_config": {
    "python": {
     "delete_cmd_postfix": "",
     "delete_cmd_prefix": "del ",
     "library": "var_list.py",
     "varRefreshCmd": "print(var_dic_list())"
    },
    "r": {
     "delete_cmd_postfix": ") ",
     "delete_cmd_prefix": "rm(",
     "library": "var_list.r",
     "varRefreshCmd": "cat(var_dic_list()) "
    }
   },
   "types_to_exclude": [
    "module",
    "function",
    "builtin_function_or_method",
    "instance",
    "_Feature"
   ],
   "window_display": false
  }
 },
 "nbformat": 4,
 "nbformat_minor": 5
}

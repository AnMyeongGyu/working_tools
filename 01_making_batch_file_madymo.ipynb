{
 "cells": [
  {
   "cell_type": "code",
   "execution_count": 5,
   "id": "19e2f66d",
   "metadata": {
    "ExecuteTime": {
     "end_time": "2023-06-05T07:13:37.518946Z",
     "start_time": "2023-06-05T07:13:37.452278Z"
    }
   },
   "outputs": [
    {
     "name": "stdout",
     "output_type": "stream",
     "text": [
      "{'\\\\\\\\mad-2205\\\\SYM\\\\MAD_TOOL\\\\DEBUG_05\\\\126_70kph_041143\\\\OccupantDOE': ['NE_ROBO_SN01_100kph_P_H3_5FM_BASE_PARA_Normal_INC.xml'], '\\\\\\\\mad-2205\\\\SYM\\\\MAD_TOOL\\\\DEBUG_05\\\\127_70kph_085624\\\\OccupantDOE': ['NE_ROBO_SN01_100kph_P_H3_50M_BASE_PARA_Normal_INC.xml', 'NE_ROBO_SN01_100kph_P_H3_5FM_BASE_PARA_Normal_INC.xml'], '\\\\\\\\mad-2205\\\\SYM\\\\MAD_TOOL\\\\DEBUG_05\\\\128_70kph_091042\\\\OccupantDOE': ['NE_ROBO_SN01_100kph_P_H3_50M_BASE_PARA_Normal_INC.xml', 'NE_ROBO_SN01_100kph_P_H3_50M_BASE_PARA_Relax_INC.xml', 'NE_ROBO_SN01_100kph_P_H3_5FM_BASE_PARA_Normal_INC.xml', 'NE_ROBO_SN01_100kph_P_H3_5FM_BASE_PARA_Relax_INC.xml'], '\\\\\\\\mad-2205\\\\SYM\\\\MAD_TOOL\\\\DEBUG_05\\\\129_70kph_093311\\\\OccupantDOE': ['NE_ROBO_SN01_100kph_P_H3_50M_BASE_PARA_Relax_INC.xml', 'NE_ROBO_SN01_100kph_P_H3_5FM_BASE_PARA_Normal_INC.xml'], '\\\\\\\\mad-2205\\\\SYM\\\\MAD_TOOL\\\\DEBUG_05\\\\130_70kph_100552\\\\OccupantDOE': ['NE_ROBO_SN01_100kph_P_H3_5FM_BASE_PARA_Normal_INC.xml'], '\\\\\\\\mad-2205\\\\SYM\\\\MAD_TOOL\\\\DEBUG_05\\\\131_70kph_105036\\\\OccupantDOE': ['NE_ROBO_SN01_100kph_P_H3_50M_BASE_PARA_Normal_INC.xml'], '\\\\\\\\mad-2205\\\\SYM\\\\MAD_TOOL\\\\DEBUG_05\\\\132_70kph_114304\\\\OccupantDOE': ['NE_ROBO_SN01_100kph_P_H3_50M_BASE_PARA_Normal_INC.xml'], '\\\\\\\\mad-2205\\\\SYM\\\\MAD_TOOL\\\\DEBUG_05\\\\133_70kph_125500\\\\OccupantDOE': ['NE_ROBO_SN01_100kph_P_H3_50M_BASE_PARA_Normal_INC.xml', 'NE_ROBO_SN01_100kph_P_H3_50M_BASE_PARA_Relax_INC.xml', 'NE_ROBO_SN01_100kph_P_H3_5FM_BASE_PARA_Relax_INC.xml'], '\\\\\\\\mad-2205\\\\SYM\\\\MAD_TOOL\\\\DEBUG_05\\\\135_90kph_153900\\\\OccupantDOE': ['NE_ROBO_SN01_100kph_P_H3_50M_BASE_PARA_Normal_INC.xml', 'NE_ROBO_SN01_100kph_P_H3_50M_BASE_PARA_Relax_INC.xml', 'NE_ROBO_SN01_100kph_P_H3_5FM_BASE_PARA_Relax_INC.xml'], '\\\\\\\\mad-2205\\\\SYM\\\\MAD_TOOL\\\\DEBUG_05\\\\136_90kph_171950\\\\OccupantDOE': ['NE_ROBO_SN01_100kph_P_H3_50M_BASE_PARA_Relax_INC.xml'], '\\\\\\\\mad-2205\\\\SYM\\\\MAD_TOOL\\\\DEBUG_05\\\\139_90kph_232015\\\\OccupantDOE': ['NE_ROBO_SN01_100kph_P_H3_50M_BASE_PARA_Normal_INC.xml', 'NE_ROBO_SN01_100kph_P_H3_5FM_BASE_PARA_Relax_INC.xml'], '\\\\\\\\mad-2205\\\\SYM\\\\MAD_TOOL\\\\DEBUG_05\\\\140_90kph_013918\\\\OccupantDOE': ['NE_ROBO_SN01_100kph_P_H3_50M_BASE_PARA_Normal_INC.xml', 'NE_ROBO_SN01_100kph_P_H3_50M_BASE_PARA_Relax_INC.xml', 'NE_ROBO_SN01_100kph_P_H3_5FM_BASE_PARA_Relax_INC.xml'], '\\\\\\\\mad-2205\\\\SYM\\\\MAD_TOOL\\\\DEBUG_05\\\\143_90kph_093635\\\\OccupantDOE': ['NE_ROBO_SN01_100kph_P_H3_50M_BASE_PARA_Normal_INC.xml', 'NE_ROBO_SN01_100kph_P_H3_5FM_BASE_PARA_Normal_INC.xml'], '\\\\\\\\mad-2205\\\\SYM\\\\MAD_TOOL\\\\DEBUG_05\\\\144_90kph_123659\\\\OccupantDOE': ['NE_ROBO_SN01_100kph_P_H3_50M_BASE_PARA_Normal_INC.xml', 'NE_ROBO_SN01_100kph_P_H3_50M_BASE_PARA_Relax_INC.xml', 'NE_ROBO_SN01_100kph_P_H3_5FM_BASE_PARA_Normal_INC.xml', 'NE_ROBO_SN01_100kph_P_H3_5FM_BASE_PARA_Relax_INC.xml'], '\\\\\\\\mad-2205\\\\SYM\\\\MAD_TOOL\\\\DEBUG_05\\\\147_90kph_221626\\\\OccupantDOE': ['NE_ROBO_SN01_100kph_P_H3_50M_BASE_PARA_Normal_INC.xml', 'NE_ROBO_SN01_100kph_P_H3_5FM_BASE_PARA_Normal_INC.xml'], '\\\\\\\\mad-2205\\\\SYM\\\\MAD_TOOL\\\\DEBUG_05\\\\148_90kph_014845\\\\OccupantDOE': ['NE_ROBO_SN01_100kph_P_H3_50M_BASE_PARA_Normal_INC.xml', 'NE_ROBO_SN01_100kph_P_H3_5FM_BASE_PARA_Relax_INC.xml']}\n"
     ]
    }
   ],
   "source": [
    "import os\n",
    "import glob\n",
    "\n",
    "def process_folder(folder_path, result):\n",
    "    os.chdir(folder_path)\n",
    "    xml_files = glob.glob(\"*_ROBO_*.xml\")\n",
    "    xml_files_10mb = [xml_file for xml_file in xml_files if os.path.getsize(xml_file) >= 5 *  1024 * 1024]\n",
    "    if xml_files_10mb:\n",
    "        result[folder_path] = xml_files_10mb\n",
    "\n",
    "    subfolder_paths = [os.path.join(folder_path, subfolder) for subfolder in os.listdir() if os.path.isdir(subfolder)]\n",
    "    for subfolder_path in subfolder_paths:\n",
    "        process_folder(subfolder_path, result)\n",
    "\n",
    "root_dir = (r\"\\\\mad-2205\\SYM\\MAD_TOOL\\DEBUG_05\")\n",
    "dirs = root_dir.split(\"\\\\\")[1:]\n",
    "os.chdir(root_dir)\n",
    "working_directory = os.getcwd()\n",
    "\n",
    "result = {}\n",
    "process_folder(working_directory, result)\n",
    "\n",
    "print(result)\n",
    "os.chdir(root_dir)\n",
    "with open(\"batch_file.bat\", \"w\") as f:\n",
    "    for subfolder_path, xml_files in result.items():\n",
    "        subfolder_path = subfolder_path.replace(\"\\\\\\\\\" +dirs[1], \"D:\")\n",
    "        f.write(f\"cd {subfolder_path}\\n\")\n",
    "        for xml_file in xml_files:\n",
    "            f.write(f\"madymo78 -nrproc 8 {xml_file}\\n\\n\")\n",
    "    f.write(\"pause\")"
   ]
  },
  {
   "cell_type": "code",
   "execution_count": null,
   "id": "f5aafc11",
   "metadata": {},
   "outputs": [],
   "source": []
  }
 ],
 "metadata": {
  "kernelspec": {
   "display_name": "Python 3 (ipykernel)",
   "language": "python",
   "name": "python3"
  },
  "language_info": {
   "codemirror_mode": {
    "name": "ipython",
    "version": 3
   },
   "file_extension": ".py",
   "mimetype": "text/x-python",
   "name": "python",
   "nbconvert_exporter": "python",
   "pygments_lexer": "ipython3",
   "version": "3.9.13"
  },
  "toc": {
   "base_numbering": 1,
   "nav_menu": {},
   "number_sections": true,
   "sideBar": true,
   "skip_h1_title": false,
   "title_cell": "Table of Contents",
   "title_sidebar": "Contents",
   "toc_cell": false,
   "toc_position": {},
   "toc_section_display": true,
   "toc_window_display": false
  },
  "varInspector": {
   "cols": {
    "lenName": 16,
    "lenType": 16,
    "lenVar": 40
   },
   "kernels_config": {
    "python": {
     "delete_cmd_postfix": "",
     "delete_cmd_prefix": "del ",
     "library": "var_list.py",
     "varRefreshCmd": "print(var_dic_list())"
    },
    "r": {
     "delete_cmd_postfix": ") ",
     "delete_cmd_prefix": "rm(",
     "library": "var_list.r",
     "varRefreshCmd": "cat(var_dic_list()) "
    }
   },
   "types_to_exclude": [
    "module",
    "function",
    "builtin_function_or_method",
    "instance",
    "_Feature"
   ],
   "window_display": false
  }
 },
 "nbformat": 4,
 "nbformat_minor": 5
}

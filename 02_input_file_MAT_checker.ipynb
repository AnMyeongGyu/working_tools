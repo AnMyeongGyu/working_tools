{
 "cells": [
  {
   "cell_type": "code",
   "execution_count": 30,
   "id": "6ece0e25",
   "metadata": {
    "ExecuteTime": {
     "end_time": "2023-02-21T01:45:37.157134Z",
     "start_time": "2023-02-21T01:45:36.913960Z"
    }
   },
   "outputs": [],
   "source": [
    "import os\n",
    "import re\n",
    "\n",
    "os.chdir('D:/test/mat_check')\n",
    "filename = \"LSTC.ES-2RE.150624_V0.201.BETA.k\"\n",
    "pattern = r\"\\*PART\\n\\s*.*?\\n\\s*(?:\\d+\\s+){2}6\\b\"\n",
    "\n",
    "with open(filename, \"r\") as file:\n",
    "    text = file.read()\n",
    "    matches = re.findall(pattern, text)\n",
    "\n",
    "with open('output.txt', 'w') as outfile:\n",
    "    for match in matches:\n",
    "        outfile.write(match + '\\n')"
   ]
  },
  {
   "cell_type": "code",
   "execution_count": 26,
   "id": "3f3340d4",
   "metadata": {
    "ExecuteTime": {
     "end_time": "2023-02-21T01:18:23.602429Z",
     "start_time": "2023-02-21T01:18:23.592430Z"
    }
   },
   "outputs": [
    {
     "name": "stdout",
     "output_type": "stream",
     "text": [
      "D:\\test\\mat_check\n",
      "['.13251_FR_BBEAM_JG_220621.k.swp', '.LSTC.ES-2RE.150624_V0.201.BETA.k.swp', '13251_FR_BBEAM_JG_220621.k', 'ES2-re_CONTROL_v5_EXTRA_MAT.k', 'LSTC.ES-2RE.150624_V0.201.BETA.k']\n"
     ]
    }
   ],
   "source": [
    "print(os.getcwd())\n",
    "print(os.listdir())"
   ]
  },
  {
   "cell_type": "code",
   "execution_count": null,
   "id": "8e0b1e9b",
   "metadata": {},
   "outputs": [],
   "source": []
  }
 ],
 "metadata": {
  "kernelspec": {
   "display_name": "Python 3 (ipykernel)",
   "language": "python",
   "name": "python3"
  },
  "language_info": {
   "codemirror_mode": {
    "name": "ipython",
    "version": 3
   },
   "file_extension": ".py",
   "mimetype": "text/x-python",
   "name": "python",
   "nbconvert_exporter": "python",
   "pygments_lexer": "ipython3",
   "version": "3.9.13"
  },
  "toc": {
   "base_numbering": 1,
   "nav_menu": {},
   "number_sections": true,
   "sideBar": true,
   "skip_h1_title": false,
   "title_cell": "Table of Contents",
   "title_sidebar": "Contents",
   "toc_cell": false,
   "toc_position": {},
   "toc_section_display": true,
   "toc_window_display": false
  },
  "varInspector": {
   "cols": {
    "lenName": 16,
    "lenType": 16,
    "lenVar": 40
   },
   "kernels_config": {
    "python": {
     "delete_cmd_postfix": "",
     "delete_cmd_prefix": "del ",
     "library": "var_list.py",
     "varRefreshCmd": "print(var_dic_list())"
    },
    "r": {
     "delete_cmd_postfix": ") ",
     "delete_cmd_prefix": "rm(",
     "library": "var_list.r",
     "varRefreshCmd": "cat(var_dic_list()) "
    }
   },
   "types_to_exclude": [
    "module",
    "function",
    "builtin_function_or_method",
    "instance",
    "_Feature"
   ],
   "window_display": false
  }
 },
 "nbformat": 4,
 "nbformat_minor": 5
}
